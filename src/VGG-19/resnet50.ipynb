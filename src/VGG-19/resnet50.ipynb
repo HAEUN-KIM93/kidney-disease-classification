{
 "cells": [
  {
   "cell_type": "markdown",
   "id": "1a7f44f2-902b-4fbe-be4e-e93b7e265cd4",
   "metadata": {},
   "source": [
    "# ResNet50 for Kidney Disease Classification"
   ]
  },
  {
   "cell_type": "markdown",
   "id": "2bcca04b-aa55-46a3-86bc-d3734b6cc8b0",
   "metadata": {},
   "source": [
    "## import functions and libraries"
   ]
  },
  {
   "cell_type": "code",
   "execution_count": null,
   "id": "98acbdc0-b848-40e4-a46d-dfe2768f9539",
   "metadata": {
    "scrolled": true
   },
   "outputs": [],
   "source": [
    "import torchvision\n",
    "from torch.utils.data import Dataset,DataLoader\n",
    "from torchvision import datasets\n",
    "from torchvision.transforms import ToTensor\n",
    "import torchvision.transforms as transforms\n",
    "import matplotlib.pyplot as plt\n",
    "from torchvision.models import resnet50, ResNet50_Weights\n",
    "import torch\n",
    "import torch.nn as nn\n",
    "from tqdm import tqdm\n",
    "import numpy as np\n",
    "import torch.nn.functional as F\n",
    "import wandb\n",
    "import opendatasets as od\n",
    "from pathlib import Path\n",
    "from collections import Counter\n",
    "import splitfolders\n",
    "from sklearn.metrics import precision_score,recall_score"
   ]
  },
  {
   "cell_type": "markdown",
   "id": "fae2ff98-5033-405c-8926-9af3d839e441",
   "metadata": {},
   "source": [
    "## path to data"
   ]
  },
  {
   "cell_type": "code",
   "execution_count": null,
   "id": "5fea7574",
   "metadata": {},
   "outputs": [],
   "source": [
    "dataset=\"https://www.kaggle.com/datasets/nazmul0087/ct-kidney-dataset-normal-cyst-tumor-and-stone\"\n",
    "\n",
    "od.download(dataset)"
   ]
  },
  {
   "cell_type": "code",
   "execution_count": null,
   "id": "3de1dcdf",
   "metadata": {},
   "outputs": [],
   "source": [
    "data_path='ct-kidney-dataset-normal-cyst-tumor-and-stone\\CT-KIDNEY-DATASET-Normal-Cyst-Tumor-Stone\\CT-KIDNEY-DATASET-Normal-Cyst-Tumor-Stone'\n",
    "splitfolders.ratio(data_path, output='dataset',seed=831, ratio=(.8, 0.1,0.1))"
   ]
  },
  {
   "cell_type": "code",
   "execution_count": null,
   "id": "38e08948-85da-49cb-b213-99019f017196",
   "metadata": {},
   "outputs": [],
   "source": [
    "trans=transforms.Compose([transforms.Resize((224,224)),\n",
    "                          transforms.ToTensor(),\n",
    "                          transforms.Normalize((0.5, 0.5, 0.5),(0.5, 0.5, 0.5))\n",
    "                         \n",
    "                         ])"
   ]
  },
  {
   "cell_type": "code",
   "execution_count": null,
   "id": "597c72c8-7228-442f-91b9-3d51edd0f7d6",
   "metadata": {},
   "outputs": [],
   "source": [
    "train_dataset=datasets.ImageFolder(root=\"dataset/train\",transform=trans)\n",
    "valid_dataset=datasets.ImageFolder(root=\"dataset/val\",transform=trans)\n",
    "test_dataset=datasets.ImageFolder(root=\"dataset/test\",transform=trans)\n",
    "train_loader=DataLoader(train_dataset,batch_size=32,shuffle=True)\n",
    "valid_loader=DataLoader(valid_dataset,batch_size=32,shuffle=False)\n",
    "test_loader=DataLoader(test_dataset,batch_size=32,shuffle=False)"
   ]
  },
  {
   "cell_type": "code",
   "execution_count": null,
   "id": "54614cb6-c426-41b8-8cef-4dd91b687fd6",
   "metadata": {},
   "outputs": [],
   "source": [
    "\n",
    "classifier = resnet50(weights=ResNet50_Weights.IMAGENET1K_V2)\n",
    "classifier.fc=nn.Linear(2048,4)"
   ]
  },
  {
   "cell_type": "code",
   "execution_count": null,
   "id": "d12e2601-619c-4385-b092-8dd12694bf08",
   "metadata": {
    "scrolled": true
   },
   "outputs": [],
   "source": [
    "classes=(train_dataset.classes)\n",
    "train_dataset=datasets.ImageFolder(root=\"dataset/train\",transform=trans)\n",
    "fig = plt.figure(figsize=(30, 30))\n",
    "\n",
    "images,labels=next(iter(train_loader))\n",
    "img = images / 2 + 0.5 \n",
    "grid_img = torchvision.utils.make_grid(img)\n",
    "plt.imshow(grid_img.permute(1, 2, 0),cmap='gray')\n",
    "\n",
    "plt.title(' '.join('%20s, ' % classes[labels[j]] for j in range(len(labels))))\n"
   ]
  },
  {
   "cell_type": "code",
   "execution_count": null,
   "id": "c88d98a6-fe28-4c20-92ef-7fd827f6ee25",
   "metadata": {},
   "outputs": [],
   "source": [
    "import pandas as pd\n",
    "data=pd.read_csv('ct-kidney-dataset-normal-cyst-tumor-and-stone\\kidneyData.csv')\n",
    "\n"
   ]
  },
  {
   "cell_type": "code",
   "execution_count": null,
   "id": "ee65dd38-5596-46a2-82e3-6ff00e35b642",
   "metadata": {},
   "outputs": [],
   "source": [
    "category=np.unique(data['Class'])\n",
    "category\n",
    "id,count=np.unique(data['Class'],return_counts=True)\n",
    "id,count"
   ]
  },
  {
   "cell_type": "code",
   "execution_count": null,
   "id": "d51f1d5a-8951-4d0e-8f0f-5251c35c31cc",
   "metadata": {},
   "outputs": [],
   "source": [
    "median=np.median(count)\n",
    "class_weight=[]\n",
    "for i in range(len(category)):\n",
    "    print(f'{category[i]} : {median/count[i]}')\n",
    "    class_weight.append(median/count[i])\n",
    "class_weight=torch.FloatTensor(class_weight)"
   ]
  },
  {
   "cell_type": "code",
   "execution_count": null,
   "id": "89a73e4e-e7fd-45cc-8f34-e9b3072ea510",
   "metadata": {},
   "outputs": [],
   "source": [
    "device = torch.device(\"cuda\") if torch.cuda.is_available() else torch.device(\"cpu\")\n",
    "device\n"
   ]
  },
  {
   "cell_type": "markdown",
   "id": "63f0838e-7bca-4247-baf2-e759f7744701",
   "metadata": {},
   "source": [
    "## train and evaluate model"
   ]
  },
  {
   "cell_type": "code",
   "execution_count": null,
   "id": "53f9754e-43d6-4fae-b5e4-56912c033abe",
   "metadata": {
    "scrolled": true
   },
   "outputs": [],
   "source": [
    "\n",
    "def train_eval(run,optimizer,device,classifier,epochs,class_weight,train_loader,valid_loader,test_loader):\n",
    "   \n",
    "    wandb.watch(classifier, log='all')\n",
    "    classifier.train()\n",
    "    classifier=classifier.to(device)\n",
    "    class_weight=class_weight.to(device)\n",
    "    \n",
    "    for epoch in tqdm(range(epochs)):\n",
    "        train_total_loss=0.0\n",
    "        num_batch=0\n",
    "        \n",
    "        train_total_accuracy=0.0\n",
    "        train_total=0\n",
    "        for batch_size,(image,labels) in tqdm(enumerate(train_loader)):\n",
    "           \n",
    "            image=image.to(device)\n",
    "            labels=labels.to(device)\n",
    "            output=classifier(image)\n",
    "            \n",
    "            optimizer.zero_grad()\n",
    "            loss=F.cross_entropy(output,labels,weight=class_weight)\n",
    "            loss.backward()\n",
    "            predicted=torch.argmax(output,dim=-1)\n",
    "            \n",
    "            optimizer.step()\n",
    "            num_batch+=1\n",
    "            train_total_loss+=loss.item()\n",
    "            train_total+=len(labels)\n",
    "           \n",
    "            train_total_accuracy+=(predicted == labels).sum().item() \n",
    "            \n",
    "        \n",
    "        wandb.log({\n",
    "        'average_train_loss': train_total_loss/num_batch,\n",
    "        'average_train_accuracy' :train_total_accuracy/train_total    \n",
    "            })\n",
    "        classifier.eval()\n",
    "        val_total_loss=0.0\n",
    "        val_total_accuracy=0.0\n",
    "        val_total_precision_considering_class=0.0\n",
    "        val_total_recall_considering_class=0.0\n",
    "        val_total=0\n",
    "        num_batch=0\n",
    "        \n",
    "        with torch.no_grad():\n",
    "            for image,labels in tqdm(valid_loader):\n",
    "                \n",
    "                image=image.to(device)\n",
    "                labels=labels.to(device)\n",
    "                output=classifier(image)\n",
    "                loss=F.cross_entropy(output,labels,weight=class_weight)\n",
    "                \n",
    "                _,predicted=torch.max(output,1)\n",
    "                num_batch+=1\n",
    "                val_total_loss+=loss.item()\n",
    "                val_total_accuracy+=(predicted == labels).sum().item() \n",
    "                val_total_precision_considering_class+=precision_score(labels.cpu().numpy(),predicted.cpu().numpy(),average='weighted',zero_division=1)\n",
    "                val_total_recall_considering_class+=recall_score(labels.cpu().numpy(),predicted.cpu().numpy(),average='weighted',zero_division=1)\n",
    "               \n",
    "                val_total+=len(labels)\n",
    "           \n",
    "            \n",
    "           \n",
    "            \n",
    "            wandb.log({\n",
    "            'average_val_loss': val_total_loss/num_batch,\n",
    "            'average_val_accuracy' :val_total_accuracy/val_total,    \n",
    "            'average_val_precsion' :val_total_precision_considering_class/num_batch,    \n",
    "            'average_val_recall' :val_total_recall_considering_class/num_batch\n",
    "       \n",
    "        })\n",
    "    with torch.no_grad():\n",
    "        classifier.eval()\n",
    "        test_total_loss=0.0\n",
    "        test_total_accuracy=0.0\n",
    "        test_total_precision_considering_class=0.0\n",
    "        test_total_recall_considering_class=0.0\n",
    "        test_total=0\n",
    "        num_batch=0        \n",
    "        for image,labels in tqdm(test_loader):\n",
    "            \n",
    "            image=image.to(device)\n",
    "            labels=labels.to(device)\n",
    "            output=classifier(image)\n",
    "            loss=F.cross_entropy(output,labels,weight=class_weight)\n",
    "            \n",
    "            _,predicted=torch.max(output,1)\n",
    "            num_batch+=1\n",
    "            test_total_loss+=loss.item()\n",
    "            test_total_accuracy+=(predicted == labels).sum().item() \n",
    "            test_total_precision_considering_class+=precision_score(labels.cpu().numpy(),predicted.cpu().numpy(),average='weighted',zero_division=1)\n",
    "            test_total_recall_considering_class+=recall_score(labels.cpu().numpy(),predicted.cpu().numpy(),average='weighted',zero_division=1)\n",
    "           \n",
    "            test_total+=len(labels)\n",
    "                \n",
    "    print(f'average_test_loss: {test_total_loss/num_batch}\\naverage_test_accuracy :{test_total_accuracy/test_total}\\naverage_test_precsion :{test_total_precision_considering_class/num_batch}\\naverage_test_recall :{test_total_recall_considering_class/num_batch}')\n",
    "    torch.save(classifier.state_dict(),'kidney_model.pt')\n",
    "    artifact=wandb.Artifact('model',type='model')\n",
    "    artifact.add_file('kidney_model.pt')\n",
    "    run.log_artifact(artifact)  \n",
    "    \n",
    "\n"
   ]
  },
  {
   "cell_type": "code",
   "execution_count": null,
   "id": "08796cd1-9ade-4b63-9622-27e6b07667f5",
   "metadata": {},
   "outputs": [],
   "source": [
    "\n",
    "sweep_config={\n",
    "'name' : 'parameter_tuning',\n",
    "'method': 'grid',\n",
    "'metric': {'name': 'val_loss','goal' :'minimize'},\n",
    "'parameters':{\n",
    "    'learning_rate' :\n",
    "     {'values': [10**-5,10**-3]},\n",
    "    'epochs': \n",
    "    {'values':[1,5,10]}\n",
    "    \n",
    "    },\n",
    "'early_terminate':{\n",
    "'type': 'hyperband',\n",
    "'min_iter': 3\n",
    "}\n",
    "}\n",
    "\n",
    "\n"
   ]
  },
  {
   "cell_type": "markdown",
   "id": "4557ba27-8627-46fa-bbef-97e571552ee3",
   "metadata": {},
   "source": [
    "## run sweep and look at configuration on wandb dashboard "
   ]
  },
  {
   "cell_type": "code",
   "execution_count": null,
   "id": "d0d9cd7d-c51e-40b0-9c0d-647d8866a707",
   "metadata": {},
   "outputs": [],
   "source": [
    "def run_sweep(config=None):\n",
    "    \n",
    "    \n",
    "    run=wandb.init(config=config)\n",
    "    wandb_config=wandb.config\n",
    "    loss=nn.CrossEntropyLoss(weight=class_weight)\n",
    "    train_dataset=datasets.ImageFolder(root=\"dataset/train\",transform=trans)\n",
    "    valid_dataset=datasets.ImageFolder(root=\"dataset/val\",transform=trans)\n",
    "    test_dataset=datasets.ImageFolder(root=\"dataset/test\",transform=trans)\n",
    "    train_loader=DataLoader(train_dataset,batch_size=32,shuffle=True)\n",
    "    valid_loader=DataLoader(valid_dataset,batch_size=32,shuffle=False)\n",
    "    test_loader=DataLoader(test_dataset,batch_size=32,shuffle=False)\n",
    "    optimizer=torch.optim.Adam(classifier.parameters(),lr=wandb_config.learning_rate)\n",
    "    train_eval(run,optimizer,device,classifier,wandb_config.epochs,class_weight,train_loader,valid_loader,test_loader)\n"
   ]
  },
  {
   "cell_type": "code",
   "execution_count": null,
   "id": "9f84d99f-1c75-4ab2-baa3-ea939a82334e",
   "metadata": {
    "scrolled": true
   },
   "outputs": [],
   "source": [
    "sweep_id=wandb.sweep(sweep_config,project='kidney_classification')\n",
    "wandb.agent(sweep_id,run_sweep)\n",
    "wandb.finish()"
   ]
  },
  {
   "cell_type": "code",
   "execution_count": null,
   "id": "7181a171-8045-4ae8-a7e8-29e5bed0a91e",
   "metadata": {},
   "outputs": [],
   "source": []
  }
 ],
 "metadata": {
  "kernelspec": {
   "display_name": "Python 3 (ipykernel)",
   "language": "python",
   "name": "python3"
  },
  "language_info": {
   "codemirror_mode": {
    "name": "ipython",
    "version": 3
   },
   "file_extension": ".py",
   "mimetype": "text/x-python",
   "name": "python",
   "nbconvert_exporter": "python",
   "pygments_lexer": "ipython3",
   "version": "3.11.7"
  }
 },
 "nbformat": 4,
 "nbformat_minor": 5
}

{
 "cells": [
  {
   "cell_type": "markdown",
   "id": "53773c3b-b566-4c59-90f3-ff9e3107da0c",
   "metadata": {},
   "source": [
    "# VGG19 for Kidney Disease Classification"
   ]
  },
  {
   "cell_type": "markdown",
   "id": "58688c31-51aa-406a-b63a-b5bae6861088",
   "metadata": {},
   "source": [
    "## Import functions and libraries"
   ]
  },
  {
   "cell_type": "code",
   "execution_count": null,
   "id": "fd8f000e-ed08-403b-9105-79bd7ff2c237",
   "metadata": {},
   "outputs": [],
   "source": [
    "import torchvision\n",
    "from torch.utils.data import Dataset,DataLoader\n",
    "from torchvision import datasets\n",
    "from torchvision.transforms import ToTensor\n",
    "import torchvision.transforms as transforms\n",
    "import matplotlib.pyplot as plt\n",
    "from torchvision.models import resnet50, ResNet50_Weights\n",
    "import torch\n",
    "import torch.nn as nn\n",
    "from tqdm import tqdm\n",
    "import numpy as np\n",
    "import torch.nn.functional as F\n",
    "import wandb\n",
    "import opendatasets as od\n",
    "from pathlib import Path\n",
    "from collections import Counter\n",
    "import splitfolders\n",
    "from sklearn.metrics import precision_score,recall_score"
   ]
  },
  {
   "cell_type": "markdown",
   "id": "def1ade9-998c-4d5b-a636-dc8feb72a374",
   "metadata": {},
   "source": [
    "## path to data"
   ]
  },
  {
   "cell_type": "code",
   "execution_count": null,
   "id": "a9275b0e-5af6-4b25-8199-2c9797b87bb2",
   "metadata": {},
   "outputs": [],
   "source": [
    "dataset=\"https://www.kaggle.com/datasets/nazmul0087/ct-kidney-dataset-normal-cyst-tumor-and-stone\"\n",
    "\n",
    "od.download(dataset)"
   ]
  },
  {
   "cell_type": "code",
   "execution_count": null,
   "id": "57b777e4-34b4-4682-856e-18eba1d8ac17",
   "metadata": {},
   "outputs": [],
   "source": [
    "data_path='ct-kidney-dataset-normal-cyst-tumor-and-stone\\CT-KIDNEY-DATASET-Normal-Cyst-Tumor-Stone\\CT-KIDNEY-DATASET-Normal-Cyst-Tumor-Stone'\n",
    "splitfolders.ratio(data_path, output='dataset',seed=831, ratio=(.8, 0.1,0.1))"
   ]
  },
  {
   "cell_type": "code",
   "execution_count": null,
   "id": "7a07e0a6-9420-4a4a-ac4a-019fbb60b6e2",
   "metadata": {},
   "outputs": [],
   "source": [
    "trans=transforms.Compose([transforms.Resize((224,224)),\n",
    "                          transforms.ToTensor(),\n",
    "                          transforms.Normalize((0.5, 0.5, 0.5),(0.5, 0.5, 0.5))\n",
    "                         \n",
    "                         ])"
   ]
  },
  {
   "cell_type": "code",
   "execution_count": null,
   "id": "d5671bf7-8fb2-47f8-b868-510e718faeee",
   "metadata": {},
   "outputs": [],
   "source": [
    "train_dataset=datasets.ImageFolder(root=\"dataset/train\",transform=trans)\n",
    "valid_dataset=datasets.ImageFolder(root=\"dataset/val\",transform=trans)\n",
    "test_dataset=datasets.ImageFolder(root=\"dataset/test\",transform=trans)\n",
    "train_loader=DataLoader(train_dataset,batch_size=32,shuffle=True)\n",
    "valid_loader=DataLoader(valid_dataset,batch_size=32,shuffle=False)\n",
    "test_loader=DataLoader(test_dataset,batch_size=32,shuffle=False)\n",
    "train_dataset.classes"
   ]
  },
  {
   "cell_type": "code",
   "execution_count": null,
   "id": "3b371836-b657-48f7-8577-3d8ec58ece12",
   "metadata": {},
   "outputs": [],
   "source": [
    "classifier = torchvision.models.vgg19(weights='VGG19_Weights.DEFAULT')\n",
    "classifier.classifier[6]=nn.Linear(4096,4)\n"
   ]
  },
  {
   "cell_type": "code",
   "execution_count": null,
   "id": "32e77b8e-688d-499d-b71f-da2b34ca69b6",
   "metadata": {},
   "outputs": [],
   "source": [
    "classes=(train_dataset.classes)\n",
    "train_dataset=datasets.ImageFolder(root=\"dataset/train\",transform=trans)\n",
    "fig = plt.figure(figsize=(30, 30))\n",
    "\n",
    "images,labels=next(iter(train_loader))\n",
    "img = images / 2 + 0.5 \n",
    "grid_img = torchvision.utils.make_grid(img)\n",
    "plt.imshow(grid_img.permute(1, 2, 0),cmap='gray')\n",
    "\n",
    "plt.title(' '.join('%20s, ' % classes[labels[j]] for j in range(len(labels))))\n"
   ]
  },
  {
   "cell_type": "code",
   "execution_count": null,
   "id": "0d63dcae-c1a0-41af-b534-d0dbb43b1974",
   "metadata": {
    "scrolled": true
   },
   "outputs": [],
   "source": [
    "import pandas as pd\n",
    "data=pd.read_csv('ct-kidney-dataset-normal-cyst-tumor-and-stone\\kidneyData.csv')\n",
    "\n"
   ]
  },
  {
   "cell_type": "code",
   "execution_count": null,
   "id": "447f8bd0-706d-4809-90fb-cd171059c256",
   "metadata": {},
   "outputs": [],
   "source": [
    "category=np.unique(data['Class'])\n",
    "category\n",
    "id,count=np.unique(data['Class'],return_counts=True)\n",
    "id,count"
   ]
  },
  {
   "cell_type": "code",
   "execution_count": null,
   "id": "88500808-9a67-4066-952e-54a7183bcbc0",
   "metadata": {},
   "outputs": [],
   "source": [
    "median=np.median(count)\n",
    "class_weight=[]\n",
    "for i in range(len(category)):\n",
    "    print(f'{category[i]} : {median/count[i]}')\n",
    "    class_weight.append(median/count[i])\n",
    "class_weight=torch.FloatTensor(class_weight)"
   ]
  },
  {
   "cell_type": "markdown",
   "id": "37f6bfda-1c8a-41da-a3bf-5ad39764d37d",
   "metadata": {},
   "source": [
    "## Train and Evaluate model"
   ]
  },
  {
   "cell_type": "code",
   "execution_count": null,
   "id": "041b039e-c79e-400e-abb4-36276ea87a86",
   "metadata": {},
   "outputs": [],
   "source": [
    "def train_eval(run,optimizer,device,classifier,epochs,class_weight,train_loader,valid_loader):\n",
    "   \n",
    "    wandb.watch(classifier, log='all')\n",
    "    classifier.train()\n",
    "    classifier=classifier.to(device)\n",
    "    class_weight=class_weight.to(device)\n",
    "    \n",
    "    for epoch in tqdm(range(epochs)):\n",
    "        train_total_loss=0.0\n",
    "        num_batch=0\n",
    "        \n",
    "        train_total_accuracy=0.0\n",
    "        train_total=0\n",
    "        for batch_size,(image,labels) in tqdm(enumerate(train_loader)):\n",
    "           \n",
    "            image=image.to(device)\n",
    "            labels=labels.to(device)\n",
    "            output=classifier(image)\n",
    "            \n",
    "            optimizer.zero_grad()\n",
    "            loss=F.cross_entropy(output,labels,weight=class_weight)\n",
    "            loss.backward()\n",
    "            predicted=torch.argmax(output,dim=-1)\n",
    "            \n",
    "            optimizer.step()\n",
    "            num_batch+=1\n",
    "            train_total_loss+=loss.item()\n",
    "            train_total+=len(labels)\n",
    "           \n",
    "            train_total_accuracy+=(predicted == labels).sum().item() \n",
    "            \n",
    "        \n",
    "        wandb.log({\n",
    "        'average_train_loss': train_total_loss/num_batch,\n",
    "        'average_train_accuracy' :train_total_accuracy/train_total    \n",
    "            },step=epoch)\n",
    "        classifier.eval()\n",
    "        val_total_loss=0.0\n",
    "        val_total_accuracy=0.0\n",
    "        val_total_precision_considering_class=0.0\n",
    "        val_total_recall_considering_class=0.0\n",
    "        val_total=0\n",
    "        num_batch=0\n",
    "        \n",
    "        with torch.no_grad():\n",
    "            for image,labels in tqdm(valid_loader):\n",
    "                \n",
    "                image=image.to(device)\n",
    "                labels=labels.to(device)\n",
    "                output=classifier(image)\n",
    "                loss=F.cross_entropy(output,labels,weight=class_weight)\n",
    "                \n",
    "                _,predicted=torch.max(output,1)\n",
    "                num_batch+=1\n",
    "                val_total_loss+=loss.item()\n",
    "                val_total_accuracy+=(predicted == labels).sum().item() \n",
    "                val_total_precision_considering_class+=precision_score(labels.cpu().numpy(),predicted.cpu().numpy(),average='weighted',zero_division=1)\n",
    "                val_total_recall_considering_class+=recall_score(labels.cpu().numpy(),predicted.cpu().numpy(),average='weighted',zero_division=1)\n",
    "               \n",
    "                val_total+=len(labels)\n",
    "           \n",
    "            torch.save(classifier.state_dict(),'kidney_model.pt')\n",
    "            artifact=wandb.Artifact('model',type='model')\n",
    "            artifact.add_file('kidney_model.pt')\n",
    "            run.log_artifact(artifact)\n",
    "           \n",
    "            \n",
    "            wandb.log({\n",
    "            'average_val_loss': val_total_loss/num_batch,\n",
    "            'average_val_accuracy' :val_total_accuracy/val_total,    \n",
    "            'average_val_precsion' :val_total_precision_considering_class/num_batch,    \n",
    "            'average_val_recall' :val_total_recall_considering_class/num_batch\n",
    "       \n",
    "        },step=epoch)\n",
    "\n",
    "    with torch.no_grad():\n",
    "        classifier.eval()\n",
    "        test_total_loss=0.0\n",
    "        test_total_accuracy=0.0\n",
    "        test_total_precision_considering_class=0.0\n",
    "        test_total_recall_considering_class=0.0\n",
    "        test_total=0\n",
    "        num_batch=0        \n",
    "        for image,labels in tqdm(test_loader):\n",
    "            \n",
    "            image=image.to(device)\n",
    "            labels=labels.to(device)\n",
    "            output=classifier(image)\n",
    "            loss=F.cross_entropy(output,labels,weight=class_weight)\n",
    "            \n",
    "            _,predicted=torch.max(output,1)\n",
    "            num_batch+=1\n",
    "            test_total_loss+=loss.item()\n",
    "            test_total_accuracy+=(predicted == labels).sum().item() \n",
    "            test_total_precision_considering_class+=precision_score(labels.cpu().numpy(),predicted.cpu().numpy(),average='weighted',zero_division=1)\n",
    "            test_total_recall_considering_class+=recall_score(labels.cpu().numpy(),predicted.cpu().numpy(),average='weighted',zero_division=1)\n",
    "           \n",
    "            test_total+=len(labels)\n",
    "                \n",
    "    print(f'average_test_loss: {test_total_loss/num_batch}\\naverage_test_accuracy :{test_total_accuracy/test_total}\\naverage_test_precsion :{test_total_precision_considering_class/num_batch}\\naverage_test_recall :{test_total_recall_considering_class/num_batch}')\n",
    "      \n"
   ]
  },
  {
   "cell_type": "code",
   "execution_count": null,
   "id": "da54bf3a-ee40-46b4-bf9f-feaec1817a00",
   "metadata": {},
   "outputs": [],
   "source": [
    "\n",
    "sweep_config={\n",
    "'name' : 'parameter_tuning',\n",
    "'method': 'grid',\n",
    "'metric': {'name': 'val_loss','goal' :'minimize'},\n",
    "'parameters':{\n",
    "    'learning_rate' :\n",
    "     {'values': [10**-5,10**-3]},\n",
    "    'epochs': \n",
    "    {'values':[1,5,10]}\n",
    "    \n",
    "    },\n",
    "'early_terminate':{\n",
    "'type': 'hyperband',\n",
    "'min_iter': 3\n",
    "}\n",
    "}\n"
   ]
  },
  {
   "cell_type": "code",
   "execution_count": null,
   "id": "9cbadb63-548d-4f9d-b3fc-e30defdc4484",
   "metadata": {},
   "outputs": [],
   "source": [
    "device = torch.device(\"cuda\") if torch.cuda.is_available() else torch.device(\"cpu\")\n",
    "device"
   ]
  },
  {
   "cell_type": "markdown",
   "id": "9681433d-13bd-4a94-b10b-205ba4c071b4",
   "metadata": {},
   "source": [
    "## run sweep and look at configuration on wandb dashboard"
   ]
  },
  {
   "cell_type": "code",
   "execution_count": null,
   "id": "79c4031b-b2ea-4324-92d7-6f4afbfb487d",
   "metadata": {},
   "outputs": [],
   "source": [
    "def run_sweep(config=None):\n",
    "    \n",
    "    \n",
    "    run=wandb.init(config=config)\n",
    "    wandb_config=wandb.config\n",
    "    loss=nn.CrossEntropyLoss(weight=class_weight)\n",
    "    train_dataset=datasets.ImageFolder(root=\"dataset/train\",transform=trans)\n",
    "    valid_dataset=datasets.ImageFolder(root=\"dataset/val\",transform=trans)\n",
    "    test_dataset=datasets.ImageFolder(root=\"dataset/test\",transform=trans)\n",
    "    train_loader=DataLoader(train_dataset,batch_size=32,shuffle=True)\n",
    "    valid_loader=DataLoader(valid_dataset,batch_size=32,shuffle=False)\n",
    "    test_loader=DataLoader(test_dataset,batch_size=32,shuffle=False)\n",
    "    optimizer=torch.optim.Adam(classifier.parameters(),lr=wandb_config.learning_rate)\n",
    "    train_eval(run,optimizer,device,classifier,wandb_config.epochs,class_weight,train_loader,valid_loader)"
   ]
  },
  {
   "cell_type": "code",
   "execution_count": null,
   "id": "1138caf1-2bbe-4d65-9e9e-d8a4f16b198b",
   "metadata": {
    "scrolled": true
   },
   "outputs": [],
   "source": [
    "sweep_id=wandb.sweep(sweep_config,project='kidney_classification_vgg19')\n",
    "wandb.agent(sweep_id,run_sweep)\n",
    "wandb.finish()"
   ]
  },
  {
   "cell_type": "code",
   "execution_count": null,
   "id": "8c3768b4-9047-4cbe-a63d-f4a242698d15",
   "metadata": {},
   "outputs": [],
   "source": []
  }
 ],
 "metadata": {
  "kernelspec": {
   "display_name": "Python 3 (ipykernel)",
   "language": "python",
   "name": "python3"
  },
  "language_info": {
   "codemirror_mode": {
    "name": "ipython",
    "version": 3
   },
   "file_extension": ".py",
   "mimetype": "text/x-python",
   "name": "python",
   "nbconvert_exporter": "python",
   "pygments_lexer": "ipython3",
   "version": "3.11.7"
  }
 },
 "nbformat": 4,
 "nbformat_minor": 5
}
